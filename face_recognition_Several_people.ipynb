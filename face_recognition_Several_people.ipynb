{
  "nbformat": 4,
  "nbformat_minor": 0,
  "metadata": {
    "colab": {
      "provenance": []
    },
    "kernelspec": {
      "name": "python3",
      "display_name": "Python 3"
    },
    "language_info": {
      "name": "python"
    }
  },
  "cells": [
    {
      "cell_type": "code",
      "source": [
        "!pip install opencv-python==4.7.0.72\n"
      ],
      "metadata": {
        "colab": {
          "base_uri": "https://localhost:8080/"
        },
        "id": "mUva5NADGfoC",
        "outputId": "7e24a5e6-150f-496f-cf96-ef879e1a949e"
      },
      "execution_count": 1,
      "outputs": [
        {
          "output_type": "stream",
          "name": "stdout",
          "text": [
            "Requirement already satisfied: opencv-python==4.7.0.72 in /usr/local/lib/python3.11/dist-packages (4.7.0.72)\n",
            "Requirement already satisfied: numpy>=1.21.2 in /usr/local/lib/python3.11/dist-packages (from opencv-python==4.7.0.72) (1.26.4)\n"
          ]
        }
      ]
    },
    {
      "cell_type": "code",
      "source": [
        "import numpy as np\n",
        "import cv2\n",
        "import matplotlib.pyplot as plt\n",
        "from google.colab import drive\n",
        "from PIL import Image"
      ],
      "metadata": {
        "id": "6sWKkwlSBKhj"
      },
      "execution_count": 2,
      "outputs": []
    },
    {
      "cell_type": "code",
      "source": [
        "drive.mount('/content/drive')"
      ],
      "metadata": {
        "colab": {
          "base_uri": "https://localhost:8080/"
        },
        "id": "_AC52iBm0jsG",
        "outputId": "50a414a2-1fde-4fd7-ca54-b186d39d94fe"
      },
      "execution_count": 3,
      "outputs": [
        {
          "output_type": "stream",
          "name": "stdout",
          "text": [
            "Drive already mounted at /content/drive; to attempt to forcibly remount, call drive.mount(\"/content/drive\", force_remount=True).\n"
          ]
        }
      ]
    },
    {
      "cell_type": "code",
      "source": [
        "def visualize(input, faces, thickness=2):\n",
        "    if faces[1] is not None:\n",
        "        for idx, face in enumerate(faces[1]):\n",
        "            coords = face[:-1].astype(np.int32)\n",
        "            cv2.rectangle(input, (coords[0], coords[1]), (coords[0]+coords[2], coords[1]+coords[3]), (0, 255, 0), thickness)\n",
        "            #cv2.circle(input, (coords[4], coords[5]), 2, (255, 0, 0), thickness)\n",
        "            #cv2.circle(input, (coords[6], coords[7]), 2, (0, 0, 255), thickness)\n",
        "            #cv2.circle(input, (coords[8], coords[9]), 2, (0, 255, 0), thickness)\n",
        "            #cv2.circle(input, (coords[10], coords[11]), 2, (255, 0, 255), thickness)\n",
        "            #cv2.circle(input, (coords[12], coords[13]), 2, (0, 255, 255), thickness)"
      ],
      "metadata": {
        "id": "Rdwc_gOTBPra"
      },
      "execution_count": 4,
      "outputs": []
    },
    {
      "cell_type": "code",
      "source": [
        "detector = cv2.FaceDetectorYN.create(\n",
        "    \"/content/drive/MyDrive/Ai_Lab/cods/face/face_detection_yunet_2022mar.onnx\",\n",
        "    \"\",\n",
        "    (320, 320),\n",
        "    0.8,\n",
        "    0.3,\n",
        "    5000\n",
        ")\n",
        "recognizer = cv2.FaceRecognizerSF.create(\n",
        "    \"/content/drive/MyDrive/Ai_Lab/cods/face/face_recognition_sface_2021dec.onnx\", \"\"\n",
        ")"
      ],
      "metadata": {
        "id": "NnVmCatMDE9y"
      },
      "execution_count": 5,
      "outputs": []
    },
    {
      "cell_type": "markdown",
      "source": [
        "## Read Images"
      ],
      "metadata": {
        "id": "NmHTpbxvSVfn"
      }
    },
    {
      "cell_type": "code",
      "source": [
        "# Load known images and extract features\n",
        "known_faces = {\n",
        "    \"yazdaniyan\": [\n",
        "        \"/content/drive/MyDrive/Ai_Lab/data/Yazdanian/simple/51101028.JPG\",\n",
        "        \"/content/drive/MyDrive/Ai_Lab/data/Yazdanian/simple/51101028.JPG\",\n",
        "        \"/content/drive/MyDrive/Ai_Lab/data/Yazdanian/simple/51101028.JPG\"\n",
        "    ],\n",
        "    \"akhavan\": [\n",
        "        \"/content/drive/MyDrive/Ai_Lab/data/akhavan/simple/51251038.png\",\n",
        "        \"/content/drive/MyDrive/Ai_Lab/data/akhavan/simple/51251038.png\",\n",
        "        \"/content/drive/MyDrive/Ai_Lab/data/akhavan/simple/51251038.png\"\n",
        "    ]\n",
        "}\n"
      ],
      "metadata": {
        "id": "MiumTYKGX_Yn"
      },
      "execution_count": 6,
      "outputs": []
    },
    {
      "cell_type": "markdown",
      "source": [
        "## Train part"
      ],
      "metadata": {
        "id": "yErQ_CQobfcF"
      }
    },
    {
      "cell_type": "code",
      "source": [
        "known_features = {}\n",
        "for name, image_paths in known_faces.items():\n",
        "    features = []\n",
        "    for image_path in image_paths:\n",
        "        image = cv2.imread(image_path)\n",
        "        imgWidth = int(image.shape[1])\n",
        "        imgHeight = int(image.shape[0])\n",
        "        detector.setInputSize((imgWidth, imgHeight))\n",
        "        faces = detector.detect(image)\n",
        "        assert faces[1] is not None, f'Cannot find a face in {image_path}'\n",
        "\n",
        "        # Align and extract features\n",
        "        face_align = recognizer.alignCrop(image, faces[1][0])\n",
        "        face_feature = recognizer.feature(face_align)\n",
        "        features.append(face_feature)\n",
        "\n",
        "    # Average the features for this person\n",
        "    avg_feature = np.mean(features, axis=0)\n",
        "    known_features[name] = avg_feature"
      ],
      "metadata": {
        "id": "VyTPTdUdX_WV"
      },
      "execution_count": 7,
      "outputs": []
    },
    {
      "cell_type": "markdown",
      "source": [
        "##Test part"
      ],
      "metadata": {
        "id": "PppCWLS1bnft"
      }
    },
    {
      "cell_type": "code",
      "source": [
        "# Load test image\n",
        "test_image1 = cv2.imread(r\"/content/drive/MyDrive/Ai_Lab/data/akhavan/simple/51251001.jpg\")\n",
        "test_image = test_image1.copy()\n",
        "test_imgWidth = int(test_image.shape[1])\n",
        "test_imgHeight = int(test_image.shape[0])\n",
        "detector.setInputSize((test_imgWidth, test_imgHeight))\n",
        "test_faces = detector.detect(test_image)\n",
        "assert test_faces[1] is not None, 'Cannot find a face in the test image'\n",
        "\n",
        "# Align and extract features of the test face\n",
        "test_face_align = recognizer.alignCrop(test_image, test_faces[1][0])\n",
        "test_face_feature = recognizer.feature(test_face_align)"
      ],
      "metadata": {
        "id": "K3HRmiFJX_UO"
      },
      "execution_count": 8,
      "outputs": []
    },
    {
      "cell_type": "markdown",
      "source": [
        "## calculate similarity(l2_score and cosion)"
      ],
      "metadata": {
        "id": "R8lHCIo7b21d"
      }
    },
    {
      "cell_type": "code",
      "source": [
        "# Compare test face with known faces\n",
        "best_match_name = \"Unknown\"\n",
        "best_match_score = float('inf')  # For L2 distance (lower is better)\n",
        "best_cosine_score = -1  # For cosine similarity (higher is better)\n",
        "\n",
        "for name, known_feature in known_features.items():\n",
        "    # Calculate L2 distance\n",
        "    l2_score = recognizer.match(test_face_feature, known_feature, cv2.FaceRecognizerSF_FR_NORM_L2)\n",
        "\n",
        "    # Calculate cosine similarity\n",
        "    cosine_score = recognizer.match(test_face_feature, known_feature, cv2.FaceRecognizerSF_FR_COSINE)\n",
        "\n",
        "    # Update best match\n",
        "    if l2_score < best_match_score:\n",
        "        best_match_score = l2_score\n",
        "        best_match_name = name\n",
        "        best_cosine_score = cosine_score\n",
        "\n",
        "# Define similarity thresholds\n",
        "l2_similarity_threshold = 1.128\n",
        "cosine_similarity_threshold = 0.363"
      ],
      "metadata": {
        "id": "JmAxc2c0b2Wt"
      },
      "execution_count": 9,
      "outputs": []
    },
    {
      "cell_type": "markdown",
      "source": [
        "##Result"
      ],
      "metadata": {
        "id": "qU39eLEeb9DV"
      }
    },
    {
      "cell_type": "code",
      "source": [
        "# Determine if the match is valid\n",
        "if best_match_score <= l2_similarity_threshold or best_cosine_score >= cosine_similarity_threshold:\n",
        "    print(f\"The test image is recognized as: {best_match_name}\")\n",
        "    print(f\"NormL2 Distance: {best_match_score}, Cosine Similarity: {best_cosine_score}\")\n",
        "else:\n",
        "    print(\"The test image does not match any known person.\")"
      ],
      "metadata": {
        "colab": {
          "base_uri": "https://localhost:8080/"
        },
        "id": "g5FNxvDuX_R3",
        "outputId": "1ae54714-3a49-4c7f-e613-bab240d6004c"
      },
      "execution_count": 10,
      "outputs": [
        {
          "output_type": "stream",
          "name": "stdout",
          "text": [
            "The test image is recognized as: akhavan\n",
            "NormL2 Distance: 0.7668440186458264, Cosine Similarity: 0.705975060599485\n"
          ]
        }
      ]
    }
  ]
}